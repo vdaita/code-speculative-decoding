{
 "cells": [
  {
   "cell_type": "code",
   "execution_count": 9,
   "id": "780a7a91-e862-4524-a437-2ef5323c56ba",
   "metadata": {},
   "outputs": [
    {
     "data": {
      "application/vnd.jupyter.widget-view+json": {
       "model_id": "1bfdea272c9a4a2aa7e0f9db0100f00b",
       "version_major": 2,
       "version_minor": 0
      },
      "text/plain": [
       "tokenizer.json:   0%|          | 0.00/2.06M [00:00<?, ?B/s]"
      ]
     },
     "metadata": {},
     "output_type": "display_data"
    },
    {
     "name": "stdout",
     "output_type": "stream",
     "text": [
      "<tokenizers.Tokenizer object at 0x7f47dc9f2e30>\n",
      "<tokenizers.Tokenizer object at 0x7f47dc9f3030>\n"
     ]
    }
   ],
   "source": [
    "from tokenizers import Tokenizer\n",
    "\n",
    "draft_tokenizer = Tokenizer.from_pretrained(\"bigcode/starcoder2-15b\")\n",
    "target_tokenizer = Tokenizer.from_pretrained(\"deepseek-ai/DeepSeek-Coder-V2-Lite-Base\")\n",
    "\n",
    "print(draft_tokenizer)\n",
    "print(target_tokenizer)"
   ]
  },
  {
   "cell_type": "code",
   "execution_count": 10,
   "id": "2d76c230-f8c9-4d7c-b5d6-61711ceecf95",
   "metadata": {},
   "outputs": [
    {
     "name": "stderr",
     "output_type": "stream",
     "text": [
      "100%|████████████████████████████████████████████████████████████████████████████████████████████████████████████████████████████████████████| 49152/49152 [00:00<00:00, 3154826.24it/s]"
     ]
    },
    {
     "name": "stdout",
     "output_type": "stream",
     "text": [
      "31789\n"
     ]
    },
    {
     "name": "stderr",
     "output_type": "stream",
     "text": [
      "\n"
     ]
    }
   ],
   "source": [
    "from tqdm import tqdm\n",
    "\n",
    "matches = 0\n",
    "target_keys = target_tokenizer.get_vocab().keys()\n",
    "for token in tqdm(draft_tokenizer.get_vocab()):\n",
    "    if token in target_keys:\n",
    "        matches += 1\n",
    "print(matches)"
   ]
  }
 ],
 "metadata": {
  "kernelspec": {
   "display_name": "Python 3 (ipykernel)",
   "language": "python",
   "name": "python3"
  },
  "language_info": {
   "codemirror_mode": {
    "name": "ipython",
    "version": 3
   },
   "file_extension": ".py",
   "mimetype": "text/x-python",
   "name": "python",
   "nbconvert_exporter": "python",
   "pygments_lexer": "ipython3",
   "version": "3.10.12"
  }
 },
 "nbformat": 4,
 "nbformat_minor": 5
}
